{
 "cells": [
  {
   "cell_type": "code",
   "execution_count": 48,
   "metadata": {},
   "outputs": [],
   "source": [
    "import numpy as np\n",
    "import pandas as pd\n",
    "import matplotlib.pyplot as plt\n",
    "from scipy.stats import multivariate_normal as mvn"
   ]
  },
  {
   "cell_type": "markdown",
   "metadata": {},
   "source": [
    "##  Handwritten digit recognition using a Gaussian generative model"
   ]
  },
  {
   "cell_type": "markdown",
   "metadata": {},
   "source": [
    "In this practice, we will build a classifier for this data, by modeling each class as a ``multivariate(784-dimensional) Gaussian``."
   ]
  },
  {
   "cell_type": "markdown",
   "metadata": {},
   "source": [
    "Data can be downloaded from: http://yann.lecun.com/exdb/mnist/index.html\n",
    "\n",
    "- [train-images-idx3-ubyte.gz](http://yann.lecun.com/exdb/mnist/train-images-idx3-ubyte.gz): training set images (9912422 bytes)\n",
    "- [train-labels-idx1-ubyte.gz](http://yann.lecun.com/exdb/mnist/train-labels-idx1-ubyte.gz): training set labels (28881 bytes) \n",
    "- [t10k-images-idx3-ubyte.gz](http://yann.lecun.com/exdb/mnist/t10k-images-idx3-ubyte.gz):  test set images (1648877 bytes) \n",
    "- [t10k-labels-idx1-ubyte.gz](http://yann.lecun.com/exdb/mnist/t10k-labels-idx1-ubyte.gz):  test set labels (4542 bytes)"
   ]
  },
  {
   "cell_type": "markdown",
   "metadata": {},
   "source": [
    "### Part (a) Loading data"
   ]
  },
  {
   "cell_type": "markdown",
   "metadata": {},
   "source": [
    "- Unzip downloaed files on local machine\n",
    "- Use helper function to load trainning and testing data\n",
    "- Retrive basic information about this data"
   ]
  },
  {
   "cell_type": "markdown",
   "metadata": {},
   "source": [
    "#### [Helper functions](http://cseweb.ucsd.edu/~dasgupta/dse210/loader.py)"
   ]
  },
  {
   "cell_type": "code",
   "execution_count": 49,
   "metadata": {},
   "outputs": [],
   "source": [
    "# helper functions\n",
    "from struct import unpack\n",
    "import numpy as np\n",
    "import matplotlib.pylab as plt \n",
    "\n",
    "#load from \n",
    "def loadmnist(imagefile, labelfile):\n",
    "    # Open the images with gzip in read binary mode\n",
    "    images = open(imagefile, 'rb')\n",
    "    labels = open(labelfile, 'rb')\n",
    "\n",
    "    # Get metadata for images\n",
    "    images.read(4)  # skip the magic_number\n",
    "    number_of_images = images.read(4)\n",
    "    number_of_images = unpack('>I', number_of_images)[0]\n",
    "    rows = images.read(4)\n",
    "    rows = unpack('>I', rows)[0]\n",
    "    cols = images.read(4)\n",
    "    cols = unpack('>I', cols)[0]\n",
    "\n",
    "    # Get metadata for labels\n",
    "    labels.read(4)\n",
    "    N = labels.read(4)\n",
    "    N = unpack('>I', N)[0]\n",
    "\n",
    "    # Get data\n",
    "    x = np.zeros((N, rows*cols), dtype=np.uint8)  # Initialize numpy array\n",
    "    y = np.zeros(N, dtype=np.uint8)  # Initialize numpy array\n",
    "    for i in range(N):\n",
    "        for j in range(rows*cols):\n",
    "            tmp_pixel = images.read(1)  # Just a single byte\n",
    "            tmp_pixel = unpack('>B', tmp_pixel)[0]\n",
    "            x[i][j] = tmp_pixel\n",
    "        tmp_label = labels.read(1)\n",
    "        y[i] = unpack('>B', tmp_label)[0]\n",
    "\n",
    "    images.close()\n",
    "    labels.close()\n",
    "    return (x, y)\n",
    "\n",
    "#display a single data point\n",
    "def displaychar(image):\n",
    "    plt.imshow(np.reshape(image, (28,28)), cmap=plt.cm.gray)\n",
    "    plt.axis('off')\n",
    "    plt.show()"
   ]
  },
  {
   "cell_type": "code",
   "execution_count": 50,
   "metadata": {
    "scrolled": true
   },
   "outputs": [],
   "source": [
    "#load unzipped file\n",
    "X, y = loadmnist('train-images-idx3-ubyte', 'train-labels-idx1-ubyte')"
   ]
  },
  {
   "cell_type": "code",
   "execution_count": 51,
   "metadata": {},
   "outputs": [
    {
     "name": "stdout",
     "output_type": "stream",
     "text": [
      "Dimension of X: (60000, 784)\n",
      "Dimension of labels y: (60000,)\n"
     ]
    }
   ],
   "source": [
    "print(f\"Dimension of X: {X.shape}\")\n",
    "print(f\"Dimension of labels y: {y.shape}\") "
   ]
  },
  {
   "cell_type": "markdown",
   "metadata": {},
   "source": [
    "AS we expected, after loading trainning set, ``X`` is a 60000 x 784 where each row corresponds to an image, and ``y`` is a length of 60000 array where each entry is a label 0 to 9."
   ]
  },
  {
   "cell_type": "code",
   "execution_count": 52,
   "metadata": {
    "scrolled": true
   },
   "outputs": [
    {
     "data": {
      "image/png": "[encoded data removed]",
      "text/plain": [
       "<Figure size 432x288 with 1 Axes>"
      ]
     },
     "metadata": {
      "needs_background": "light"
     },
     "output_type": "display_data"
    }
   ],
   "source": [
    "displaychar(X[0])"
   ]
  },
  {
   "cell_type": "markdown",
   "metadata": {},
   "source": [
    "Each single data entry represents an image of 28 x 28 pixels, each pixel represnets a greyscale ranging from 0 to 255."
   ]
  },
  {
   "cell_type": "markdown",
   "metadata": {},
   "source": [
    "<br/><br/>"
   ]
  },
  {
   "cell_type": "markdown",
   "metadata": {},
   "source": [
    "### Part (b) Splitting data"
   ]
  },
  {
   "cell_type": "markdown",
   "metadata": {},
   "source": [
    "Split the trainning set into two pieces - a trainning set of size 50000, and a separate ``validation set`` of size 10000. Also load in the test data."
   ]
  },
  {
   "cell_type": "code",
   "execution_count": 53,
   "metadata": {},
   "outputs": [],
   "source": [
    "def train_valid_split(X,y):\n",
    "    train_index = np.random.choice(range(X.shape[0]), size=(50000,), replace=False)\n",
    "    valid_index = np.array([i for i in range(X.shape[0]) if i not in train_index])\n",
    "    \n",
    "    X_train = X[train_index]\n",
    "    X_valid = X[valid_index]\n",
    "    y_train = y[train_index]\n",
    "    y_valid = y[valid_index]\n",
    "    \n",
    "    return X_train, X_valid, y_train, y_valid"
   ]
  },
  {
   "cell_type": "code",
   "execution_count": 54,
   "metadata": {},
   "outputs": [],
   "source": [
    "X_train, X_valid, y_train, y_valid = train_valid_split(X,y)"
   ]
  },
  {
   "cell_type": "code",
   "execution_count": 55,
   "metadata": {
    "scrolled": true
   },
   "outputs": [
    {
     "name": "stdout",
     "output_type": "stream",
     "text": [
      "Dimension of X_train after splitting:(50000, 784)\n",
      "Dimension of y_train after splitting:(50000,)\n",
      "Dimension of X_valid after splitting:(10000, 784)\n",
      "Dimension of y_valid after splitting:(10000,)\n"
     ]
    }
   ],
   "source": [
    "print(f\"Dimension of X_train after splitting:{X_train.shape}\")\n",
    "print(f\"Dimension of y_train after splitting:{y_train.shape}\")\n",
    "print(f\"Dimension of X_valid after splitting:{X_valid.shape}\")\n",
    "print(f\"Dimension of y_valid after splitting:{y_valid.shape}\")"
   ]
  },
  {
   "cell_type": "markdown",
   "metadata": {},
   "source": [
    "<br/><br/>"
   ]
  },
  {
   "cell_type": "markdown",
   "metadata": {},
   "source": [
    "### Part (c) Fitting a Gaussian generative model"
   ]
  },
  {
   "cell_type": "markdown",
   "metadata": {},
   "source": [
    "Clasify new images $x$ using ``Bayes'rule``: simply pick the digit $j$ for which $π_jP_j(x)$"
   ]
  },
  {
   "cell_type": "markdown",
   "metadata": {},
   "source": [
    "Given an image $x \\in \\mathbb{R}^{784}$, we classify it to the digit that is given by the ``MAP(Maximum A Posteriori) estimator``:\n",
    "\n",
    "$$h^*(x) = \\underset{j}{\\operatorname{argmax}} P(y=j|x)$$\n",
    "\n",
    "According to ``Bayes'rule``:\n",
    "\n",
    "$$P(y=j|x) = \\frac{P(x|y=j) P(y=j)}{P(x)} = \\frac{\\pi_j P_j(X)}{\\sum_i{\\pi_i P_i(X)}}$$\n",
    "\n",
    "Since denominator $P(x)$ is independent of $j$,\n",
    "\n",
    "So find ``MAP estimator`` by maximizing ``{prior}`` x ``{likelihood}``:\n",
    "\n",
    "$$h^*(x) = \\underset{j}{\\operatorname{argmax}} \\pi_j P_j(x) = \\underset{j}{\\operatorname{argmax}} \\log \\pi_j + logP_j(x)$$"
   ]
  },
  {
   "cell_type": "markdown",
   "metadata": {},
   "source": [
    "#### STEP 1: Estimating the Prior probability $\\pi_j$"
   ]
  },
  {
   "cell_type": "markdown",
   "metadata": {},
   "source": [
    "- What fraction $\\pi_0$ of the training points are digit $0$, for instance? Call these values $\\pi_0$,...,$\\pi_9$."
   ]
  },
  {
   "cell_type": "code",
   "execution_count": 56,
   "metadata": {},
   "outputs": [],
   "source": [
    "# return the percentage of label, which is also prior probability\n",
    "def prior_prob(y):\n",
    "    n_classes = np.unique(y).shape[0]\n",
    "    return np.array([y_train[y_train==i].shape[0]/y_train.shape[0] for i in range(n_classes)])"
   ]
  },
  {
   "cell_type": "code",
   "execution_count": 57,
   "metadata": {
    "scrolled": true
   },
   "outputs": [
    {
     "data": {
      "text/plain": [
       "array([0.09882, 0.11192, 0.09896, 0.10242, 0.09726, 0.08978, 0.09888,\n",
       "       0.10546, 0.0972 , 0.0993 ])"
      ]
     },
     "execution_count": 57,
     "metadata": {},
     "output_type": "execute_result"
    }
   ],
   "source": [
    "priors = prior_prob(y_train)\n",
    "priors"
   ]
  },
  {
   "cell_type": "markdown",
   "metadata": {},
   "source": [
    "#### Histogram of Class Labels"
   ]
  },
  {
   "cell_type": "code",
   "execution_count": 58,
   "metadata": {},
   "outputs": [
    {
     "data": {
      "text/plain": [
       "Text(0.5, 1.0, 'Histogram of labels')"
      ]
     },
     "execution_count": 58,
     "metadata": {},
     "output_type": "execute_result"
    },
    {
     "data": {
      "image/png": "[encoded data removed]",
      "text/plain": [
       "<Figure size 576x432 with 1 Axes>"
      ]
     },
     "metadata": {
      "needs_background": "light"
     },
     "output_type": "display_data"
    }
   ],
   "source": [
    "fig, ax = plt.subplots(figsize=(8, 6))\n",
    "ax.hist(y_train, bins=10, edgecolor='red', color=\"lightblue\")\n",
    "\n",
    "plt.grid()\n",
    "plt.xlabel('Class labels')\n",
    "plt.ylabel('Counts')\n",
    "plt.title('Histogram of labels')"
   ]
  },
  {
   "cell_type": "markdown",
   "metadata": {},
   "source": [
    "<br/><br/>"
   ]
  },
  {
   "cell_type": "markdown",
   "metadata": {},
   "source": [
    "#### STEP 2: Estimating the likelihood  $P_j(X) = P(x|Y=j)$ by Multivariate Gaussian Model"
   ]
  },
  {
   "cell_type": "markdown",
   "metadata": {},
   "source": [
    "- Fit a Gaussian to each digit, by finding the ``mean`` and the ``covariance`` of the corresponding data points. Let the Gaussian for the $j$th digit be $P_j = N(\\mu_j , \\sum_{j})$."
   ]
  },
  {
   "cell_type": "markdown",
   "metadata": {},
   "source": [
    "We are assuming that within each digit, the images are distributed according to a multivariate Gaussian distribution."
   ]
  },
  {
   "cell_type": "markdown",
   "metadata": {},
   "source": [
    "The Gaussian distribution $N(\\mu, \\sum)$ in $\\mathbb{R}^{784}$ is specified by a ``mean vector`` $\\mu \\in \\mathbb{R}^d$ and a $d \\times d$ ``covariance matrix`` $\\sum$."
   ]
  },
  {
   "cell_type": "markdown",
   "metadata": {},
   "source": [
    "Explicitly, each class label $X_i$ has expected value $E(X_i) = \\mu_i$, and the covariance between components $X_i$ and $X_j$ is given by the $(i,j)th$ entry of the matrix $\\sum$:\n",
    "$$Cov(X_i,X_j) = E((X_i −\\mu_i)(X_j −\\mu_j)) = \\sum_{ij}$$\n",
    "In particular, the diagonal entries of $\\sum$ are the variances of the components: $Var(X_i) = \\sum_{ii}$."
   ]
  },
  {
   "cell_type": "code",
   "execution_count": 59,
   "metadata": {},
   "outputs": [
    {
     "data": {
      "text/plain": [
       "10"
      ]
     },
     "execution_count": 59,
     "metadata": {},
     "output_type": "execute_result"
    }
   ],
   "source": [
    "# the number of classes, j\n",
    "n_classes = np.unique(y_train).shape[0]\n",
    "n_classes"
   ]
  },
  {
   "cell_type": "code",
   "execution_count": 60,
   "metadata": {},
   "outputs": [
    {
     "data": {
      "text/plain": [
       "(5596, 784)"
      ]
     },
     "execution_count": 60,
     "metadata": {},
     "output_type": "execute_result"
    }
   ],
   "source": [
    "X_train[np.where(y_train==1)].shape"
   ]
  },
  {
   "cell_type": "code",
   "execution_count": 61,
   "metadata": {
    "scrolled": true
   },
   "outputs": [
    {
     "data": {
      "text/plain": [
       "(10, 784)"
      ]
     },
     "execution_count": 61,
     "metadata": {},
     "output_type": "execute_result"
    }
   ],
   "source": [
    "# sample means for each class j (n_classes, n_features)\n",
    "mu = np.array([X_train[np.where(y_train==i)].mean(axis=0) for i in range(n_classes)])\n",
    "mu.shape"
   ]
  },
  {
   "cell_type": "code",
   "execution_count": 62,
   "metadata": {},
   "outputs": [
    {
     "data": {
      "text/plain": [
       "(10, 784, 784)"
      ]
     },
     "execution_count": 62,
     "metadata": {},
     "output_type": "execute_result"
    }
   ],
   "source": [
    "# sample covaiance matrix for each class j (n_classes, n_features, n_features)\n",
    "sigma = np.array([np.cov(X_train[np.where(y_train==i)], rowvar=0) for i in range(10)], dtype=np.float64)\n",
    "sigma.shape"
   ]
  },
  {
   "cell_type": "code",
   "execution_count": 63,
   "metadata": {},
   "outputs": [
    {
     "data": {
      "text/plain": [
       "(array([0, 0, 0, ..., 9, 9, 9]),\n",
       " array([ 59,  59,  59, ..., 778, 778, 778]),\n",
       " array([ 59,  60,  62, ..., 776, 777, 778]))"
      ]
     },
     "execution_count": 63,
     "metadata": {},
     "output_type": "execute_result"
    }
   ],
   "source": [
    "#examine values of sigma\n",
    "sigma.nonzero()"
   ]
  },
  {
   "cell_type": "markdown",
   "metadata": {},
   "source": [
    "<br/><br/>"
   ]
  },
  {
   "cell_type": "markdown",
   "metadata": {},
   "source": [
    "#### Smoothing or Regularization"
   ]
  },
  {
   "cell_type": "markdown",
   "metadata": {},
   "source": [
    "Notice that the ``Gaussian density function`` involves the inverse covariance matrix. The true covariance matrix $\\sum_{j}$ is always invertible, but our estimator $\\hat\\sum_{j}$ may not be. So in practice, we usually want to do a ``regularization``:\n",
    "$$\\sum_j^{\\sim}=\\sum_{j}^{\\wedge} +cI$$\n",
    "where $c > 0$ is a constant and $I$ is the ``identity matrix``."
   ]
  },
  {
   "cell_type": "code",
   "execution_count": 64,
   "metadata": {},
   "outputs": [],
   "source": [
    "#add smoothing constant by broadcasting ndarray\n",
    "var_smoothing = 0.1 #take 0.1 here for instance\n",
    "smoothed_sigma = sigma + np.eye(X_train.shape[1])*var_smoothing"
   ]
  },
  {
   "cell_type": "code",
   "execution_count": 65,
   "metadata": {
    "scrolled": true
   },
   "outputs": [
    {
     "data": {
      "text/plain": [
       "(10, 784, 784)"
      ]
     },
     "execution_count": 65,
     "metadata": {},
     "output_type": "execute_result"
    }
   ],
   "source": [
    "smoothed_sigma.shape"
   ]
  },
  {
   "cell_type": "markdown",
   "metadata": {},
   "source": [
    "<br/><br/>"
   ]
  },
  {
   "cell_type": "markdown",
   "metadata": {},
   "source": [
    "#### Calculate log-likelihood probabilty  $P_j(X)$ using ``multivariate_normal.logpdf()`` from ``scipy.stats``"
   ]
  },
  {
   "cell_type": "code",
   "execution_count": 66,
   "metadata": {
    "scrolled": false
   },
   "outputs": [],
   "source": [
    "#samples size of 100 from validation set\n",
    "log_likelihood = np.array([mvn.logpdf(X_valid, mean=mu[j], cov=smoothed_sigma[j]) for j in range(n_classes)])\n",
    "\n",
    "probas = np.log(priors)+log_likelihood.T"
   ]
  },
  {
   "cell_type": "code",
   "execution_count": 67,
   "metadata": {},
   "outputs": [
    {
     "data": {
      "text/plain": [
       "(10, 10000)"
      ]
     },
     "execution_count": 67,
     "metadata": {},
     "output_type": "execute_result"
    }
   ],
   "source": [
    "log_likelihood.shape"
   ]
  },
  {
   "cell_type": "code",
   "execution_count": 68,
   "metadata": {},
   "outputs": [
    {
     "data": {
      "text/plain": [
       "array([3, 6, 3, ..., 6, 0, 1])"
      ]
     },
     "execution_count": 68,
     "metadata": {},
     "output_type": "execute_result"
    }
   ],
   "source": [
    "#select the largest log-sum \n",
    "prediction = np.argmax(probas, axis=1)\n",
    "\n",
    "prediction"
   ]
  },
  {
   "cell_type": "markdown",
   "metadata": {},
   "source": [
    "Now we wraps all these up into class implementation"
   ]
  },
  {
   "cell_type": "markdown",
   "metadata": {},
   "source": [
    "#### Class implementation of  Gaussian Classifier"
   ]
  },
  {
   "cell_type": "code",
   "execution_count": 87,
   "metadata": {},
   "outputs": [],
   "source": [
    "class Gaussian_clf():\n",
    "    \n",
    "    def __init__(self, var_smoothing=1e-2):\n",
    "        self.var_smoothing = var_smoothing\n",
    "        \n",
    "       \n",
    "    def _prior_prob(self, y):\n",
    "        self.n_classes = np.unique(y).shape[0]\n",
    "        return np.array([y[y==i].shape[0]/y.shape[0] for i in range(self.n_classes)])\n",
    "    \n",
    "    def fit(self, X, y):\n",
    "        \"\"\"\n",
    "        X: array-like of shape (n_samples, n_features)\n",
    "           n_samples is the number of samples\n",
    "           and n_features is the number of features.\n",
    "        y: array-like of shape (n_classes,)\n",
    "           n_classes is the number of classes\n",
    "        \"\"\"\n",
    "        self.priors = self._prior_prob(y)\n",
    "        self.n_features = X.shape[1]\n",
    "        \n",
    "        self.mu = np.array([X[np.where(y==i)].mean(axis=0) for i in range(self.n_classes)])\n",
    "        \n",
    "        sigma = np.array([np.cov(X[np.where(y==i)].T) for i in range(self.n_classes)])\n",
    "        self.sigma = sigma + np.eye(self.n_features)*self.var_smoothing #smoothing covariance matrix\n",
    "        \n",
    "        return self\n",
    "    \n",
    "    \n",
    "    def predict_proba(self, X):\n",
    "        \"\"\"\n",
    "        X: array-like of shape (n_samples, n_features)\n",
    "           \n",
    "        probas: array-like of shape (n_samples, )\n",
    "                maximum probabilty of samples among different classes\n",
    "        \"\"\"\n",
    "        if X.ndim == 1:\n",
    "            self.n_samples = 1\n",
    "        else:\n",
    "            self.n_samples = X.shape[0]\n",
    "        \n",
    "        #pass in the whole trainning data into mvn.logpdf()\n",
    "        log_likelihood = np.array([mvn.logpdf(X, mean=self.mu[j],cov=self.sigma[j]) for j in range(self.n_classes)]) \n",
    "        # summation of log(p_j) and p_j(X) by broadcasting\n",
    "        probas = np.log(self.priors) + log_likelihood.T\n",
    "        \n",
    "        return probas\n",
    "    \n",
    "        #using loops\n",
    "        #probs = np.zeros((self.n_classes, self.n_samples))\n",
    "        #for i in range(10):\n",
    "            #probs[i] = np.log(pi[i]) + mvn.logpdf(X, mean=self.mu[i], cov=self.sigma[i])\n",
    "        #return probs\n",
    "    \n",
    "        \n",
    "    def predict(self, X):\n",
    "        \"\"\"\n",
    "        X: array-like of shape (n_samples, n_features)\n",
    "           \n",
    "        res: array-like of shape (n_samples, )\n",
    "            class labels for each sample\n",
    "        \"\"\"\n",
    "        probs = self.predict_proba(X)\n",
    "        \n",
    "        return np.argmax(probs, axis=1)\n",
    "    \n",
    "    def get_param(self):\n",
    "        return self.priors, self.mu, self.sigma"
   ]
  },
  {
   "cell_type": "markdown",
   "metadata": {},
   "source": [
    "<br/><br/>"
   ]
  },
  {
   "cell_type": "markdown",
   "metadata": {},
   "source": [
    "### Part(d) Choosing proper smoothing constant"
   ]
  },
  {
   "cell_type": "markdown",
   "metadata": {},
   "source": [
    "We will use our implemented Gaussian classifier to deside what value of c resulting fewest mistakes on the validation set. \n",
    "\n",
    "For alternatives, we can use ``GaussianNB()`` classifier from ``sklearn.naive_bayes`` package."
   ]
  },
  {
   "cell_type": "code",
   "execution_count": 70,
   "metadata": {
    "scrolled": true
   },
   "outputs": [],
   "source": [
    "def cal_err_rate(X, y, var_smoothing):\n",
    "    err_index = X[X!=y]\n",
    "    err_rate = err_index.shape[0]/y.shape[0]\n",
    "   # err_rate = 1-np.mean(X==y)\n",
    "    print(f\"Smoothing constant: {var_smoothing}     Classifier ERROR RATE: {round(err_rate*100, 2)}%\")\n",
    "    return err_rate\n",
    "\n",
    "def choose_smooth_var(X_train, y_train, X_test, y_test, var_smoothing_selections):\n",
    "    print(f\"RUNNING SMOOTHING CONSTANT SLECTION FROM {var_smoothing_selections}\")\n",
    "    print(f\"----------------------------------------------------------------------\")\n",
    "    \n",
    "    err = {}\n",
    "    for c in var_smoothing_selections:\n",
    "        clf = Gaussian_clf(var_smoothing=c) #define classifier from our implementation\n",
    "        clf.fit(X_train, y_train)\n",
    "        X_pred = clf.predict(X_test)\n",
    "        err[c] = cal_err_rate(X_pred, y_test, c)\n",
    "\n",
    "    min_err = min(err.values());  \n",
    "    best_c = [key for key, value in err.items() if value == min_err]\n",
    "    \n",
    "    print(f\"----------------------------------------------------------------------\")\n",
    "    print(f\"The best smoothing constant among {len(var_smoothing_selections)} selections is {best_c[0]}\")\n",
    "    \n",
    "    return err"
   ]
  },
  {
   "cell_type": "code",
   "execution_count": 71,
   "metadata": {
    "scrolled": true
   },
   "outputs": [
    {
     "name": "stdout",
     "output_type": "stream",
     "text": [
      "RUNNING SMOOTHING CONSTANT SLECTION FROM [10000.0, 1000.0, 100.0, 10.0, 1.0, 0.1, 0.01, 0.001]\n",
      "----------------------------------------------------------------------\n",
      "Smoothing constant: 10000.0     Classifier ERROR RATE: 5.64%\n",
      "Smoothing constant: 1000.0     Classifier ERROR RATE: 5.53%\n",
      "Smoothing constant: 100.0     Classifier ERROR RATE: 8.66%\n",
      "Smoothing constant: 10.0     Classifier ERROR RATE: 12.33%\n",
      "Smoothing constant: 1.0     Classifier ERROR RATE: 16.3%\n",
      "Smoothing constant: 0.1     Classifier ERROR RATE: 19.0%\n",
      "Smoothing constant: 0.01     Classifier ERROR RATE: 21.46%\n",
      "Smoothing constant: 0.001     Classifier ERROR RATE: 23.98%\n",
      "----------------------------------------------------------------------\n",
      "The best smoothing constant among 8 selections is 1000.0\n"
     ]
    }
   ],
   "source": [
    "var_smoothing_selections = [1e4, 1e3, 1e2, 1e1, 1e0, 1e-1, 1e-2, 1e-3]\n",
    "err_info = choose_smooth_var(X_train, y_train, X_valid, y_valid, var_smoothing_selections)"
   ]
  },
  {
   "cell_type": "code",
   "execution_count": 72,
   "metadata": {
    "scrolled": true
   },
   "outputs": [
    {
     "data": {
      "image/png": "[encoded data removed]",
      "text/plain": [
       "<Figure size 432x288 with 1 Axes>"
      ]
     },
     "metadata": {
      "needs_background": "light"
     },
     "output_type": "display_data"
    }
   ],
   "source": [
    "#display error rate trends with different smoothing constants\n",
    "plt.scatter([*err_info.keys()], [*err_info.values()])\n",
    "plt.plot([*err_info.keys()], [*err_info.values()])\n",
    "plt.grid()\n",
    "plt.show()"
   ]
  },
  {
   "cell_type": "markdown",
   "metadata": {},
   "source": [
    "As we can see from above, the error rate decreases as we increasing smoothing constant, however, when the constant gets larger than 1000, the error rate starts dropping."
   ]
  },
  {
   "cell_type": "markdown",
   "metadata": {},
   "source": [
    "<br/><br/>"
   ]
  },
  {
   "cell_type": "markdown",
   "metadata": {},
   "source": [
    "### Part(e) Applying selected smoothing constant on test data"
   ]
  },
  {
   "cell_type": "markdown",
   "metadata": {},
   "source": [
    "Objectives:\n",
    "- Error rate on the MNIST test set\n",
    "- Identify misclassified test digits, pick five at random and display them. For each instance, list the posterior probabilities $Pr(y|x)$ of each of the ten classes."
   ]
  },
  {
   "cell_type": "markdown",
   "metadata": {},
   "source": [
    "#### Error rate on test set"
   ]
  },
  {
   "cell_type": "code",
   "execution_count": 73,
   "metadata": {},
   "outputs": [],
   "source": [
    "#load testing file\n",
    "X_test, y_test = loadmnist('t10k-images-idx3-ubyte', 't10k-labels-idx1-ubyte')"
   ]
  },
  {
   "cell_type": "code",
   "execution_count": 74,
   "metadata": {
    "scrolled": true
   },
   "outputs": [
    {
     "name": "stdout",
     "output_type": "stream",
     "text": [
      "Dimension of X_test:(10000, 784)\n",
      "Dimension of y_test:(10000,)\n"
     ]
    }
   ],
   "source": [
    "print(f\"Dimension of X_test:{X_test.shape}\")\n",
    "print(f\"Dimension of y_test:{y_test.shape}\")"
   ]
  },
  {
   "cell_type": "code",
   "execution_count": 89,
   "metadata": {},
   "outputs": [
    {
     "name": "stdout",
     "output_type": "stream",
     "text": [
      "Running Gaussian classifier with smoothing constant 1000 on test data ...\n",
      "Smoothing constant: 1000     Classifier ERROR RATE: 4.86%\n"
     ]
    }
   ],
   "source": [
    "print(\"Running Gaussian classifier with smoothing constant 1000 on test data ...\")\n",
    "clf = Gaussian_clf(var_smoothing=1000)\n",
    "clf.fit(X_train, y_train)\n",
    "priors_, mu_, sigma_ = clf.get_param()\n",
    "X_pred = clf.predict(X_test)\n",
    "\n",
    "err_rate = cal_err_rate(X_pred, y_test, 1000)"
   ]
  },
  {
   "cell_type": "markdown",
   "metadata": {},
   "source": [
    "#### Display random misclassified digits"
   ]
  },
  {
   "cell_type": "code",
   "execution_count": 77,
   "metadata": {},
   "outputs": [],
   "source": [
    "#pick 5 random index from misclassified prediction\n",
    "def pick_five(X, y):\n",
    "    mis_idx = []\n",
    "    for idx, v in np.ndenumerate(X):\n",
    "        if v != y[idx]:\n",
    "            mis_idx.append(idx[0])\n",
    "            \n",
    "    to_display = np.random.choice(mis_idx, 5)\n",
    "    return to_display\n",
    "\n",
    "\n",
    "#display misclassified digits\n",
    "def display_five(picks):\n",
    "    \n",
    "    fig, axs = plt.subplots(1,5,figsize=(15,15))\n",
    "    fig.suptitle(\"FIVE RANDOM PICKED MISCLASSIFIED DIGITS FROM TEST SET\")\n",
    "    fig.tight_layout()\n",
    "    fig.subplots_adjust(top=1.6)\n",
    "    for i in range(5):\n",
    "        axs[i].imshow(np.reshape(X_test[to_display[i]], (28,28)), cmap=plt.cm.gray)\n",
    "        axs[i].set_title(f\"digit at index {to_display[i]} --> {int(X_pred[to_display[i]])}\")\n",
    "        axs[i].axis('off')"
   ]
  },
  {
   "cell_type": "code",
   "execution_count": 78,
   "metadata": {
    "scrolled": true
   },
   "outputs": [
    {
     "data": {
      "image/png": "[encoded data removed]",
      "text/plain": [
       "<Figure size 1080x1080 with 5 Axes>"
      ]
     },
     "metadata": {
      "needs_background": "light"
     },
     "output_type": "display_data"
    }
   ],
   "source": [
    "to_display = pick_five(X_pred, y_test)\n",
    "display_five(to_display)"
   ]
  },
  {
   "cell_type": "markdown",
   "metadata": {},
   "source": [
    "<br/><br/>"
   ]
  },
  {
   "cell_type": "markdown",
   "metadata": {},
   "source": [
    "#### Calculating Posterior probabilities $P(y_j|x)$"
   ]
  },
  {
   "cell_type": "markdown",
   "metadata": {},
   "source": [
    "$$P(y=j|x) = \\frac{P(x|y=j) P(y=j)}{P(x)} = \\frac{\\pi_j P_j(X)}{\\sum_i{\\pi_i P_i(X)}}$$"
   ]
  },
  {
   "cell_type": "markdown",
   "metadata": {},
   "source": [
    "$$P(x) = \\sum_i{\\pi_i P_i(X)}$$"
   ]
  },
  {
   "cell_type": "code",
   "execution_count": 90,
   "metadata": {},
   "outputs": [],
   "source": [
    "log_likelihood = clf.predict_proba(X_train)"
   ]
  },
  {
   "cell_type": "code",
   "execution_count": 91,
   "metadata": {},
   "outputs": [
    {
     "name": "stdout",
     "output_type": "stream",
     "text": [
      "Note: Since Underflows happened when calculate posterior probabilities, \n",
      "      below will display log(Prior*Likelihood) instead.\n",
      "\n",
      "\n",
      "log(Prior*Likelihood) of mis-classified sample at index 2758 is:\n",
      "[-3889.462943   -4299.79217765 -3895.95137742 -3931.95618089\n",
      " -3962.1410725  -3853.50626388 -3684.31509667 -4234.41449095\n",
      " -3906.72655766 -4135.07394778]\n",
      "------------------------------------------------------------------\n",
      "log(Prior*Likelihood) of mis-classified sample at index 619 is:\n",
      "[-3943.62047068 -4291.60430289 -4029.58909822 -3885.87613489\n",
      " -3891.9802678  -3715.54607027 -4135.10112489 -3950.53456459\n",
      " -3795.02117153 -3908.52095587]\n",
      "------------------------------------------------------------------\n",
      "log(Prior*Likelihood) of mis-classified sample at index 6755 is:\n",
      "[-3968.37835045 -4540.40967899 -3727.562924   -3885.01319005\n",
      " -4025.45106684 -4036.38623988 -4109.5870661  -4425.87429742\n",
      " -4033.07094183 -4304.68562811]\n",
      "------------------------------------------------------------------\n",
      "log(Prior*Likelihood) of mis-classified sample at index 3565 is:\n",
      "[-3979.88509312 -4119.18229213 -3851.15697915 -3875.09871181\n",
      " -3724.35172573 -3887.89196777 -3958.09117656 -3876.38905103\n",
      " -3841.10445175 -3907.12917855]\n",
      "------------------------------------------------------------------\n",
      "log(Prior*Likelihood) of mis-classified sample at index 2414 is:\n",
      "[-4141.98539769 -4967.11803442 -4170.80048127 -4113.79925826\n",
      " -4196.7840079  -4146.41664633 -4499.02694122 -3760.16050763\n",
      " -4135.38223193 -4027.23197016]\n",
      "------------------------------------------------------------------\n"
     ]
    }
   ],
   "source": [
    "print(f\"\"\"Note: Since Underflows happened when calculate posterior probabilities, \n",
    "      below will display log(Prior*Likelihood) instead.\"\"\")\n",
    "print(\"\\n\")\n",
    "for i in to_display:\n",
    "    print(f\"log(Prior*Likelihood) of mis-classified sample at index {i} is:\")\n",
    "    print(log_likelihood[i])\n",
    "    print(\"------------------------------------------------------------------\")"
   ]
  }
 ],
 "metadata": {
  "kernelspec": {
   "display_name": "Python 3 (ipykernel)",
   "language": "python",
   "name": "python3"
  },
  "language_info": {
   "codemirror_mode": {
    "name": "ipython",
    "version": 3
   },
   "file_extension": ".py",
   "mimetype": "text/x-python",
   "name": "python",
   "nbconvert_exporter": "python",
   "pygments_lexer": "ipython3",
   "version": "3.8.10"
  }
 },
 "nbformat": 4,
 "nbformat_minor": 4
}
