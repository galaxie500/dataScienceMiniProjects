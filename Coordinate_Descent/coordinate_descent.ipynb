{
 "cells": [
  {
   "cell_type": "code",
   "execution_count": 1,
   "id": "0023d958",
   "metadata": {},
   "outputs": [],
   "source": [
    "import numpy as np\n",
    "import pandas as pd\n",
    "import matplotlib.pyplot as plt\n",
    "\n",
    "from sklearn.model_selection import train_test_split\n",
    "from sklearn.linear_model import LogisticRegression\n",
    "from sklearn.metrics import log_loss\n",
    "from sklearn.metrics import accuracy_score"
   ]
  },
  {
   "cell_type": "markdown",
   "id": "8dc2e2ca",
   "metadata": {},
   "source": [
    "## Mini-project: `Coordinate descent`"
   ]
  },
  {
   "cell_type": "markdown",
   "id": "42843cb7",
   "metadata": {},
   "source": [
    "In this project, we consider a standard `unconstrained optimization` problem on `heart disease data set`:\n",
    "\n",
    "$$min L(w)$$\n",
    "\n",
    "where $L(·)$ is some cost function and $w \\in \\mathbb{R}^d$. In class, we looked at several approaches to solving such\n",
    "problems—such as `gradient descent` and `stochastic gradient descent`—under differentiability conditions on\n",
    "$L(w)$. We will now look at a different, and in many ways simpler, approach:\n",
    "- Initialize $w$ somehow.\n",
    "- Repeat: pick a coordinate $i \\in \\{1, 2, ... , d\\}$, and update the value of $w_i$ so as to reduce the loss.\n",
    "\n",
    "Two questions need to be answered in order to fully specify the updates:\n",
    "\n",
    "- (i) Which coordinate to choose?\n",
    "- (ii) How to set the new value of $w_i$?"
   ]
  },
  {
   "cell_type": "markdown",
   "id": "57c14614",
   "metadata": {},
   "source": [
    "### (a) *A short, high-level description of coordinate descent method*. "
   ]
  },
  {
   "cell_type": "markdown",
   "id": "da0f5352",
   "metadata": {},
   "source": [
    "#### Key Strategies:\n",
    "- Objective function(Loss function) and gradients:\n",
    "\n",
    "The Maximum likelihood estimation of logistic regression is in a form of:\n",
    "\n",
    "$$\n",
    "L(w) = -1/n\\displaystyle\\sum_{i=1}^{n} y_{i} \\log \\hat{y}_{i} + (1 - y_{i}) \\log(1 - \\hat{y}_{i})\n",
    "$$\n",
    "\n",
    "We transform $\\hat y = w^T x_i +b$ by a Sigmoid function $\\sigma(x)=\\frac{1}{1+e^{-x}}$,\n",
    "hence, the loss function can be writen as:\n",
    "\n",
    "$$\n",
    "L(w) = -1/n\\displaystyle\\sum_{i=1}^{n} y_{i} \\log \\sigma(\\hat{y}_{i}) + (1 - y_{i}) \\log(1 - \\sigma(\\hat{y}_{i}))\n",
    "$$\n",
    "\n",
    "Thus, the coordinate gradient with respect with each weight $w_{j}$ is given by\n",
    "\n",
    "$$\n",
    "\\frac{\\partial L(w)}{\\partial w_{j}} = \\displaystyle \\sum_{i=1}^{n}(\\sigma(\\hat{y}_{i}) - y_{i})x_{j}\n",
    "$$"
   ]
  },
  {
   "cell_type": "markdown",
   "id": "efca1cde",
   "metadata": {},
   "source": [
    "- Rules for selecting coordinates besides randomly choose a $w_i$ at a time: \n",
    "    - **Method 1 (Cyclic coordinate descent)**: go through all the features cyclically. (1,2,..13,1,2,...13,1,2...until converge.)\n",
    "    - **Method 2 (Gauss-Southwell)**: at each iteration, pick coordinate $i$ that has greatest gradient in absolute value for which:\n",
    "\n",
    "$$i = \\underset{1 \\leq j \\leq n}{\\operatorname{argmax}|\\nabla_j f(x^{(t)})|}$$\n",
    "\n",
    "$$\\nabla_j f(x^{(t)}) = \\frac{\\partial L(w)}{\\partial w_{j}} = \\displaystyle \\sum_{i=1}^{n}(\\sigma(\\hat{y}_{i}) - y_{i})x_{j}$$"
   ]
  },
  {
   "cell_type": "markdown",
   "id": "70a7565a",
   "metadata": {},
   "source": [
    "- Rules for updating $\\omega_i$: \n",
    "$$\n",
    "w_{i} = w_{i} - \\eta \\frac{\\partial L(w)}{\\partial w_{i}}\n",
    "$$\n",
    "Here, $\\eta$ denotes step size.\n",
    "\n",
    "\n",
    "- Constraint on loss function: **L(·) should be convex and differentiable**."
   ]
  },
  {
   "cell_type": "markdown",
   "id": "5ff8ed5e",
   "metadata": {},
   "source": [
    "### (b) *Convergence*.\n",
    "\n",
    "Under what conditions do you think your method converges to the optimal loss?"
   ]
  },
  {
   "cell_type": "markdown",
   "id": "77a07c83",
   "metadata": {},
   "source": [
    "The objective function(Loss function) values are non-decreasing: $f(x(0)) \\geq f(x(1)) \\geq f(x(2)) ...$, if $f$ is strictly convex and differentiable, the algorithm converges to a global minimum. Hence, we we let iterations keep going until the loss gets as close to as $L^*$, which is the fitting Loss of our baseline logistic regrssion model. \n",
    "\n",
    "We will take the difference between fitting loss and $L^*$, if the difference is less than $0.001$, we will consider the fitting process converged to a gloabal minimum, then the iterations will terminate."
   ]
  },
  {
   "cell_type": "markdown",
   "id": "9e9ac1bf",
   "metadata": {},
   "source": [
    "### (c) *Experimental results*."
   ]
  },
  {
   "cell_type": "markdown",
   "id": "25ff67b9",
   "metadata": {},
   "source": [
    "Prepare data"
   ]
  },
  {
   "cell_type": "code",
   "execution_count": 2,
   "id": "d96c0dbf",
   "metadata": {},
   "outputs": [],
   "source": [
    "data = np.loadtxt('heart.csv', delimiter=',', skiprows=1)"
   ]
  },
  {
   "cell_type": "code",
   "execution_count": 3,
   "id": "ba3a474a",
   "metadata": {},
   "outputs": [],
   "source": [
    "X, y = data[:, :-1], data[:,-1]\n",
    "\n",
    "# normalize features\n",
    "X = (X - X.mean(axis=0))/(X.max(axis=0) - X.min(axis=0))\n",
    "\n",
    "# add intercept-1 vector to feature matrix\n",
    "X = np.hstack((X, np.ones((X.shape[0], 1))))"
   ]
  },
  {
   "cell_type": "code",
   "execution_count": 4,
   "id": "70129b0f",
   "metadata": {},
   "outputs": [
    {
     "data": {
      "text/plain": [
       "(303, 14)"
      ]
     },
     "execution_count": 4,
     "metadata": {},
     "output_type": "execute_result"
    }
   ],
   "source": [
    "X.shape"
   ]
  },
  {
   "cell_type": "code",
   "execution_count": 5,
   "id": "1b52d6d8",
   "metadata": {},
   "outputs": [
    {
     "data": {
      "text/plain": [
       "(303, 1)"
      ]
     },
     "execution_count": 5,
     "metadata": {},
     "output_type": "execute_result"
    }
   ],
   "source": [
    "np.ones((X.shape[0], 1)).shape"
   ]
  },
  {
   "cell_type": "markdown",
   "id": "fa97453f",
   "metadata": {},
   "source": [
    "#### Baseline Loss on Logistic Regression"
   ]
  },
  {
   "cell_type": "markdown",
   "id": "f61c81d5",
   "metadata": {},
   "source": [
    "Begin by running a standard logistic regression solver(not regularized) on the training set. Make note of the final loss $L^*$. "
   ]
  },
  {
   "cell_type": "code",
   "execution_count": 7,
   "id": "8f81d03d",
   "metadata": {},
   "outputs": [
    {
     "name": "stdout",
     "output_type": "stream",
     "text": [
      "Baseline(Logistic Regression) Training Loss L* = 0.34890424492559446\n"
     ]
    }
   ],
   "source": [
    "# baseline logistic regression model without regularization\n",
    "reg = LogisticRegression(solver='sag', C=100000, max_iter = 10000).fit(X, y)\n",
    "L_base = log_loss(y, reg.predict_proba(X))\n",
    "\n",
    "print(f\"Baseline(Logistic Regression) Training Loss L* = {L_base}\")"
   ]
  },
  {
   "cell_type": "markdown",
   "id": "870c4654",
   "metadata": {},
   "source": [
    "Then, implement your coordinate descent method and run it on this data."
   ]
  },
  {
   "cell_type": "markdown",
   "id": "cd01631a",
   "metadata": {},
   "source": [
    "#### Implementing CoordinateDescent Classifier."
   ]
  },
  {
   "cell_type": "code",
   "execution_count": 8,
   "id": "3b3f87c4",
   "metadata": {},
   "outputs": [],
   "source": [
    "class CoordinateDescent():\n",
    "\n",
    "    def __init__(self, target, select, step=0.01):    \n",
    "        \"\"\"Create a Coordinate Descent Classifier.\n",
    "        \n",
    "        Given training data and labels, this class calculates the coefficients \n",
    "        based on coordinate descent.\n",
    "        \n",
    "        Parameters\n",
    "        ----------\n",
    "        target, fitting loss when converged \n",
    "        select, the strategy for selecting which w_i to update \n",
    "        step, learning rate\n",
    "        \n",
    "        Attributes\n",
    "        ----------\n",
    "        target, fitting loss when converged \n",
    "        select, the strategy for selecting which w_i to update \n",
    "        step, learning rate\n",
    "        \"\"\"\n",
    "        self.target = target\n",
    "        self.step = step\n",
    "        self.select = select\n",
    "     \n",
    "    \n",
    "    def __sigmoid(self, x):\n",
    "        \"\"\"Squashing function.\n",
    "        \n",
    "        Parameters\n",
    "        ----------\n",
    "        x, A numpy ndarray, shape of (number of samples, number of features)\n",
    "        \n",
    "        Returns\n",
    "        ----------\n",
    "        A numpy ndarray, shape of (number of samples, number of features)\n",
    "        \"\"\"\n",
    "        return 1 / (1 + np.exp(-x))\n",
    "        \n",
    "        \n",
    "    def fit(self, X, y):\n",
    "        \"\"\"Update coefficient based on different strategy of selecting one coordinate each time.\n",
    "        Fitting process will be ended while converging criteria met.\n",
    "        \n",
    "        Parameters\n",
    "        ----------\n",
    "        X, A numpy ndarray, training data, shape of (number of samples, number of features)\n",
    "        y, A numpy ndarray, training label, shape of (number of samples,)\n",
    "        \n",
    "        Returns\n",
    "        ----------\n",
    "        The current object\n",
    "        \"\"\"\n",
    "        self.n_features = X.shape[1]\n",
    "        w = np.zeros(self.n_features).reshape(self.n_features, 1)\n",
    "        self.L = []\n",
    "        \n",
    "        diff = 1\n",
    "        cycle_digit = 0\n",
    "        self.num_iter = 0\n",
    "        \n",
    "        while diff >= 0.001: \n",
    "            y_hat = self.__sigmoid(np.dot(w.T, X.T))\n",
    "            loss = -(1 / X.shape[0]) * np.sum(y * np.log(y_hat) + (1 - y) * np.log(1 - y_hat))\n",
    "            self.L.append(loss)\n",
    "            delta = list(np.dot((y_hat - y), X)[0]) # gradients\n",
    "\n",
    "            cycle_index = cycle_digit % X.shape[1]\n",
    "            \n",
    "            if self.select == 'cgd': # select with largest gradient in absolute value\n",
    "                to_update = np.argmax(np.abs(delta))\n",
    "                w[to_update] = w[to_update] - self.step * delta[to_update]\n",
    "            elif self.select == 'rand': # randomly select coordinate\n",
    "                random = np.random.randint(0,13)\n",
    "                w[random] = w[random] - self.step * delta[random]\n",
    "            elif self.select == 'cycle': # cyclic go through all coordinate\n",
    "                w[cycle_index] = w[cycle_index] - self.step * delta[cycle_index]\n",
    "                cycle_digit += 1 \n",
    "            \n",
    "            self.num_iter += 1\n",
    "            diff = loss - self.target\n",
    "            \n",
    "            self.w = w\n",
    "            \n",
    "        return self\n",
    "   \n",
    "\n",
    "    def predict(self, X):\n",
    "        \"\"\"Calculate OLS result with coefficients trained by fittting.\n",
    "        \n",
    "        Parameters\n",
    "        ----------\n",
    "        X, A numpy ndarray, shape of (number of samples, number of features)\n",
    "        \n",
    "        Returns\n",
    "        ----------\n",
    "        y_pred, A numpy ndarray, shape of (number of samples,)\n",
    "        \"\"\"\n",
    "        y_pred = self.__sigmoid(np.dot(self.w.T, X.T))\n",
    "        y_pred = np.array(list(map(lambda x: 1 if x >= 0.5 else 0, y_pred.flatten())))\n",
    "        return y_pred\n",
    "   \n",
    "\n",
    "    def get_loss(self):\n",
    "        \"\"\"\n",
    "        Returns\n",
    "        ----------\n",
    "        self.L, A list, fitting loss of each update\n",
    "        \"\"\"\n",
    "        return self.L\n",
    "    \n",
    "    \n",
    "    def get_coef(self):\n",
    "        \"\"\"\n",
    "        Returns\n",
    "        ----------\n",
    "        self.w, A numpy ndarray, fitted coefficients, shape of (number of features,)\n",
    "        \"\"\"\n",
    "        return self.w\n",
    "    \n",
    "    \n",
    "    def get_num_iter(self):\n",
    "        \"\"\"\n",
    "        Returns\n",
    "        ----------\n",
    "        self.num_iter, A number, the number of updates during fitting.\n",
    "        \"\"\"\n",
    "        return self.num_iter"
   ]
  },
  {
   "cell_type": "markdown",
   "id": "0d7c3a1e",
   "metadata": {},
   "source": [
    "#### Method 1: Cyclic go through each coordinate $i$ "
   ]
  },
  {
   "cell_type": "code",
   "execution_count": 9,
   "id": "c0cc35ed",
   "metadata": {},
   "outputs": [],
   "source": [
    "# fit training data with coordinate descent model(default 1050 iterations)\n",
    "m1 = CoordinateDescent(target=L_base, select='cycle').fit(X, y)\n",
    "m1_pred = m1.predict(X)"
   ]
  },
  {
   "cell_type": "code",
   "execution_count": 10,
   "id": "84d40cd1",
   "metadata": {},
   "outputs": [
    {
     "name": "stdout",
     "output_type": "stream",
     "text": [
      "Go through each coordinate cyclically: \n",
      "-------------------------------------- \n",
      "Accuracy:       -> 0.8514851485148515 \n",
      "Fitting Loss:   -> 0.349902342590921 \n",
      "#Iterations:    -> 3576\n"
     ]
    }
   ],
   "source": [
    "# Accuracy\n",
    "m1_acc = accuracy_score(y, m1_pred)\n",
    "# Training Loss\n",
    "L1 = m1.get_loss()\n",
    "num_iter1 = m1.get_num_iter()\n",
    "\n",
    "print(f\"Go through each coordinate cyclically: \\n\\\n",
    "-------------------------------------- \\\n",
    "\\nAccuracy:       -> {m1_acc} \\\n",
    "\\nFitting Loss:   -> {L1[-1]} \\\n",
    "\\n#Iterations:    -> {num_iter1}\")"
   ]
  },
  {
   "cell_type": "markdown",
   "id": "67ed48c5",
   "metadata": {},
   "source": [
    "#### Method 2: Pick coordinate $i$ that has greatest gradient in absolute value at each iteration"
   ]
  },
  {
   "cell_type": "code",
   "execution_count": 11,
   "id": "9c481445",
   "metadata": {},
   "outputs": [],
   "source": [
    "# fit training data with coordinate descent model\n",
    "m2 = CoordinateDescent(target=L_base, select='cgd').fit(X, y)\n",
    "m2_pred = m2.predict(X)"
   ]
  },
  {
   "cell_type": "code",
   "execution_count": 12,
   "id": "b4537aca",
   "metadata": {},
   "outputs": [
    {
     "name": "stdout",
     "output_type": "stream",
     "text": [
      "Select feature based on largest gradient: \n",
      "----------------------------------------- \n",
      "Accuracy:       -> 0.8382838283828383 \n",
      "Fitting Loss:   -> 0.3499040333347324 \n",
      "#Iterations:    -> 1622\n"
     ]
    }
   ],
   "source": [
    "# Accuracy\n",
    "m2_acc = accuracy_score(y, m2_pred)\n",
    "# Training Loss\n",
    "L2 = m2.get_loss()\n",
    "num_iter2 = m2.get_num_iter()\n",
    "\n",
    "print(f\"Select feature based on largest gradient: \\n\\\n",
    "----------------------------------------- \\\n",
    "\\nAccuracy:       -> {m2_acc} \\\n",
    "\\nFitting Loss:   -> {L2[-1]} \\\n",
    "\\n#Iterations:    -> {num_iter2}\")"
   ]
  },
  {
   "cell_type": "markdown",
   "id": "45faa75a",
   "metadata": {},
   "source": [
    "  - Finally, compare to a method that chooses coordinates $i$ uniformly at random and then updates $w_i$ using your method (we’ll call this “random-feature coordinate descent”)."
   ]
  },
  {
   "cell_type": "code",
   "execution_count": 13,
   "id": "fc45068c",
   "metadata": {},
   "outputs": [],
   "source": [
    "m3 = CoordinateDescent(target=L_base, select='rand').fit(X, y)\n",
    "m3_pred = m3.predict(X)"
   ]
  },
  {
   "cell_type": "code",
   "execution_count": 15,
   "id": "5475883c",
   "metadata": {},
   "outputs": [
    {
     "name": "stdout",
     "output_type": "stream",
     "text": [
      "Randomly select coordinate: \n",
      "---------------------------------- \n",
      "Accuracy:       -> 0.8514851485148515 \n",
      "Fitting Loss:   -> 0.3499039468571106 \n",
      "#Iterations:    -> 5031\n"
     ]
    }
   ],
   "source": [
    "# Accuracy\n",
    "m3_acc = accuracy_score(y, m3_pred)\n",
    "# Training Loss\n",
    "L3 = m3.get_loss()\n",
    "num_iter3 = m3.get_num_iter()\n",
    "\n",
    "print(f\"Randomly select coordinate: \\n\\\n",
    "---------------------------------- \\\n",
    "\\nAccuracy:       -> {m3_acc} \\\n",
    "\\nFitting Loss:   -> {L3[-1]} \\\n",
    "\\n#Iterations:    -> {num_iter3}\")"
   ]
  },
  {
   "cell_type": "markdown",
   "id": "4b8bc2f0",
   "metadata": {},
   "source": [
    "### Conclusion\n",
    "\n",
    "Three different methods all converged to $L^*$ within a sufficiently small range, however, they do take different number of iterations to achieve their results, apparently selecting coordinate based on the largest coordinate gradient requires the smallest number of iterations($1622$), which indicating this method converging faster than the others, respectively, cyclic coordinate gradient takes $3576$ iterations, random selecting takes 4800~5500 times, for random selecting, even though the number of iterations may differ each time, the difference is trivial.\n",
    "\n",
    "We visualize this result by plotting the fitting curves below."
   ]
  },
  {
   "cell_type": "code",
   "execution_count": 16,
   "id": "63d8e020",
   "metadata": {},
   "outputs": [],
   "source": [
    "def plot_loss():\n",
    "    plt.figure(figsize=(10,6))\n",
    "\n",
    "    plt.plot(L1, 'green', label='\"Cyclic Coordinate Descent\"')\n",
    "    plt.plot(L2, 'red', label='\"Coordinate Gradient Descent\"')\n",
    "    plt.plot(L3, 'orange', label='\"Random Coordinate Descent\"')\n",
    "    plt.axhline(y=L_base, color='lightblue', label='Baseline L*')\n",
    "    plt.title('Coordinate Descent Fitting Loss', fontsize=16)\n",
    "    plt.xlabel('Iterations', fontsize=16)\n",
    "\n",
    "    plt.ylabel('Fitting Loss', fontsize=16)\n",
    "    plt.xticks(fontsize=12)\n",
    "    plt.yticks(fontsize=12)\n",
    "    plt.legend(prop={'size': 16})"
   ]
  },
  {
   "cell_type": "code",
   "execution_count": 17,
   "id": "b38c7bbe",
   "metadata": {},
   "outputs": [
    {
     "data": {
      "image/png": "[encoded data removed]",
      "text/plain": [
       "<Figure size 720x432 with 1 Axes>"
      ]
     },
     "metadata": {
      "needs_background": "light"
     },
     "output_type": "display_data"
    }
   ],
   "source": [
    "plot_loss()"
   ]
  },
  {
   "cell_type": "markdown",
   "id": "277ad687",
   "metadata": {},
   "source": [
    "The graph above shows how the loss of our \"adaptive\" coordinate descent algorithm's current iterate—that is, $L(w_t)$—decreases with $t$; it should asymptote to $L^*$. Also, it shows the corresponding curve for random-feature coordinate descent."
   ]
  }
 ],
 "metadata": {
  "kernelspec": {
   "display_name": "Python 3",
   "language": "python",
   "name": "python3"
  },
  "language_info": {
   "codemirror_mode": {
    "name": "ipython",
    "version": 3
   },
   "file_extension": ".py",
   "mimetype": "text/x-python",
   "name": "python",
   "nbconvert_exporter": "python",
   "pygments_lexer": "ipython3",
   "version": "3.8.8"
  }
 },
 "nbformat": 4,
 "nbformat_minor": 5
}
