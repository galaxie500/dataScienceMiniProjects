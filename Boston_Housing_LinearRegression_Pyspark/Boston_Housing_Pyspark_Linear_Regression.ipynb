{
 "cells": [
  {
   "cell_type": "markdown",
   "id": "domestic-prescription",
   "metadata": {},
   "source": [
    "## Tasks: \n",
    "\n",
    "- Process data(loading, imputting, dropping, scaling) with `pyspark`\n",
    "- Linear Regression on the Boston Housing dataset with `pyspark`\n",
    "- Add regularization and grid-search for hyper-parameters with `pyspark`\n",
    "- Model evaluation with `pyspark`\n",
    "  \n",
    "PySpark API Documentation: https://spark.apache.org/docs/latest/api/python/index.html\n",
    "\n",
    "Spark DataFrame Guide:  https://spark.apache.org/docs/latest/sql-programming-guide.html\n",
    "\n",
    "Spark MLlib Guide: https://spark.apache.org/docs/latest/ml-guide.html"
   ]
  },
  {
   "cell_type": "markdown",
   "id": "monetary-strip",
   "metadata": {},
   "source": [
    "### Import libraries/functions"
   ]
  },
  {
   "cell_type": "code",
   "execution_count": 1,
   "id": "earlier-bottle",
   "metadata": {},
   "outputs": [],
   "source": [
    "import numpy as np\n",
    "import pandas as pd\n",
    "import matplotlib.pyplot as plt\n",
    "import pyspark\n",
    "from pyspark.sql import SparkSession\n",
    "from pyspark.sql.functions import col\n",
    "from pyspark.sql import DataFrame\n",
    "from pyspark.ml.feature import VectorAssembler\n",
    "from pyspark.ml.feature import StandardScaler\n",
    "from pyspark.ml.regression import LinearRegression\n",
    "from pyspark.ml.evaluation import RegressionEvaluator\n",
    "from pyspark.ml import Pipeline\n",
    "from pyspark.ml.tuning import CrossValidator, ParamGridBuilder\n",
    "\n",
    "%matplotlib inline\n",
    "plt.style.use('seaborn-whitegrid')"
   ]
  },
  {
   "cell_type": "markdown",
   "id": "healthy-dream",
   "metadata": {},
   "source": [
    "### Initialize Spark\n",
    "* Initialize Spark with 2 cores"
   ]
  },
  {
   "cell_type": "code",
   "execution_count": 2,
   "id": "fancy-budapest",
   "metadata": {},
   "outputs": [],
   "source": [
    "conf = pyspark.SparkConf().setAll([('spark.master','local[2]'), ('spark.app.name','PA3')])\n",
    "spark = SparkSession.builder.config(conf=conf).getOrCreate()"
   ]
  },
  {
   "cell_type": "markdown",
   "id": "commercial-weather",
   "metadata": {},
   "source": [
    "### Read the data from Boston_Housing.csv file\n",
    "* Print the number of rows in the dataframe"
   ]
  },
  {
   "cell_type": "code",
   "execution_count": 3,
   "id": "tender-sherman",
   "metadata": {},
   "outputs": [
    {
     "name": "stdout",
     "output_type": "stream",
     "text": [
      "506\n"
     ]
    }
   ],
   "source": [
    "housing = spark.read.csv('file:/home/work/PA3/Boston_Housing.csv', header=True)\n",
    "print(housing.count())"
   ]
  },
  {
   "cell_type": "markdown",
   "id": "valid-cooperation",
   "metadata": {},
   "source": [
    "### Column names in file and their description\n",
    "\n",
    "CRIM — per capita crime rate by town.\n",
    "\n",
    "ZN — proportion of residential land zoned for lots over 25,000 sq.ft.\n",
    "\n",
    "INDUS — proportion of non-retail business acres per town.\n",
    "\n",
    "CHAS — Charles River dummy variable (= 1 if tract bounds river; 0 otherwise).\n",
    "\n",
    "NOX — nitrogen oxides concentration (parts per 10 million).\n",
    "\n",
    "RM — average number of rooms per dwelling.\n",
    "\n",
    "AGE — proportion of owner-occupied units built prior to 1940.\n",
    "\n",
    "DIS — weighted mean of distances to five Boston employment centres.\n",
    "\n",
    "RAD — index of accessibility to radial highways.\n",
    "\n",
    "TAX — full-value property-tax rate per $10,000.\n",
    "\n",
    "PTRATIO — pupil-teacher ratio by town.\n",
    "\n",
    "BLACK — 1000(Bk — 0.63)² where Bk is the proportion of blacks by town.\n",
    "\n",
    "LSTAT — lower status of the population (percent).\n",
    "\n",
    "MV — median value of owner-occupied homes in $1000s. This is the target variable."
   ]
  },
  {
   "cell_type": "markdown",
   "id": "focal-medicare",
   "metadata": {},
   "source": [
    "### See one row of the dataframe"
   ]
  },
  {
   "cell_type": "code",
   "execution_count": 4,
   "id": "activated-niger",
   "metadata": {},
   "outputs": [
    {
     "name": "stdout",
     "output_type": "stream",
     "text": [
      "+-------+----+-----+----+-----+-----+----+----+---+-----+-------+-----+-----+----+\n",
      "|   CRIM|  ZN|INDUS|CHAS|  NOX|   RM| AGE| DIS|RAD|  TAX|PTRATIO|BLACK|LSTAT|  MV|\n",
      "+-------+----+-----+----+-----+-----+----+----+---+-----+-------+-----+-----+----+\n",
      "|0.00632|18.0| 2.31|   0|0.538|6.575|65.2|4.09|  1|296.0|   15.3|396.9| 4.98|24.0|\n",
      "+-------+----+-----+----+-----+-----+----+----+---+-----+-------+-----+-----+----+\n",
      "only showing top 1 row\n",
      "\n",
      "None\n"
     ]
    }
   ],
   "source": [
    "print(housing.show(1))"
   ]
  },
  {
   "cell_type": "markdown",
   "id": "superb-racing",
   "metadata": {},
   "source": [
    "### Helper function for filling columns using mean or median strategy"
   ]
  },
  {
   "cell_type": "code",
   "execution_count": 5,
   "id": "brown-federation",
   "metadata": {},
   "outputs": [],
   "source": [
    "from pyspark.ml.feature import Imputer\n",
    "\n",
    "def fill_na(df, strategy):    \n",
    "    imputer = Imputer(\n",
    "        strategy=strategy,\n",
    "        inputCols=df.columns, \n",
    "        outputCols=[\"{}_imputed\".format(c) for c in df.columns]\n",
    "    )\n",
    "    \n",
    "    new_df = imputer.fit(df).transform(df)\n",
    "    \n",
    "    # Select the newly created columns with all filled values\n",
    "    new_df = new_df.select([c for c in new_df.columns if \"imputed\" in c])\n",
    "    \n",
    "    for col in new_df.columns:\n",
    "        new_df = new_df.withColumnRenamed(col, col.split(\"_imputed\")[0])\n",
    "        \n",
    "    return new_df"
   ]
  },
  {
   "cell_type": "markdown",
   "id": "monetary-omega",
   "metadata": {},
   "source": [
    "### Feature selection\n",
    "* Print schema to verify"
   ]
  },
  {
   "cell_type": "code",
   "execution_count": 6,
   "id": "serious-tribune",
   "metadata": {},
   "outputs": [
    {
     "name": "stdout",
     "output_type": "stream",
     "text": [
      "root\n",
      " |-- CRIM: string (nullable = true)\n",
      " |-- ZN: string (nullable = true)\n",
      " |-- INDUS: string (nullable = true)\n",
      " |-- CHAS: string (nullable = true)\n",
      " |-- NOX: string (nullable = true)\n",
      " |-- RM: string (nullable = true)\n",
      " |-- AGE: string (nullable = true)\n",
      " |-- DIS: string (nullable = true)\n",
      " |-- RAD: string (nullable = true)\n",
      " |-- TAX: string (nullable = true)\n",
      " |-- PTRATIO: string (nullable = true)\n",
      " |-- BLACK: string (nullable = true)\n",
      " |-- LSTAT: string (nullable = true)\n",
      " |-- MV: string (nullable = true)\n",
      "\n",
      "None\n"
     ]
    }
   ],
   "source": [
    "# These are the column names in the csv file as described above.\n",
    "col_names = ['CRIM' , 'ZN', 'INDUS', 'CHAS', 'NOX', 'RM', 'AGE', 'DIS', 'RAD', 'TAX', 'PTRATIO', 'BLACK', 'LSTAT', 'MV']\n",
    "\n",
    "print(housing.printSchema())"
   ]
  },
  {
   "cell_type": "markdown",
   "id": "sorted-benjamin",
   "metadata": {},
   "source": [
    "### Drop NA's in the target variable `MV`\n",
    "* Print the number of remaining rows"
   ]
  },
  {
   "cell_type": "code",
   "execution_count": 7,
   "id": "sized-crest",
   "metadata": {},
   "outputs": [
    {
     "name": "stdout",
     "output_type": "stream",
     "text": [
      "506\n"
     ]
    }
   ],
   "source": [
    "housing.filter(housing['MV'].isNotNull())\n",
    "print(housing.count())"
   ]
  },
  {
   "cell_type": "markdown",
   "id": "cardiac-arnold",
   "metadata": {},
   "source": [
    "### Fill the NA's for remaining columns using a mean strategy\n",
    "* Use the `fill_na` function provided above"
   ]
  },
  {
   "cell_type": "code",
   "execution_count": 8,
   "id": "opposite-punch",
   "metadata": {},
   "outputs": [
    {
     "name": "stdout",
     "output_type": "stream",
     "text": [
      "root\n",
      " |-- CRIM: float (nullable = true)\n",
      " |-- ZN: float (nullable = true)\n",
      " |-- INDUS: float (nullable = true)\n",
      " |-- CHAS: float (nullable = true)\n",
      " |-- NOX: float (nullable = true)\n",
      " |-- RM: float (nullable = true)\n",
      " |-- AGE: float (nullable = true)\n",
      " |-- DIS: float (nullable = true)\n",
      " |-- RAD: float (nullable = true)\n",
      " |-- TAX: float (nullable = true)\n",
      " |-- PTRATIO: float (nullable = true)\n",
      " |-- BLACK: float (nullable = true)\n",
      " |-- LSTAT: float (nullable = true)\n",
      " |-- MV: float (nullable = true)\n",
      "\n",
      "None\n"
     ]
    }
   ],
   "source": [
    "# cast all columns to 'float' type\n",
    "housing = housing.select(*(col(c).cast(\"float\").alias(c) for c in housing.columns))\n",
    "print(housing.printSchema())\n",
    "\n",
    "housing = fill_na(housing, 'mean')"
   ]
  },
  {
   "cell_type": "markdown",
   "id": "limited-hartford",
   "metadata": {},
   "source": [
    "### Create feature vector using VectorAssembler\n",
    "\n",
    "* Create a vector column composed of _all_ the features\n",
    "* Don't include the label \"MV\" here since label isn't a feature"
   ]
  },
  {
   "cell_type": "code",
   "execution_count": 9,
   "id": "electoral-imagination",
   "metadata": {},
   "outputs": [],
   "source": [
    "from pyspark.ml.feature import VectorAssembler\n",
    "\n",
    "assembler = VectorAssembler(\n",
    "    inputCols=['CRIM' , 'ZN', 'INDUS', 'CHAS', 'NOX', 'RM', 'AGE', 'DIS', 'RAD', 'TAX', 'PTRATIO', 'BLACK', 'LSTAT'],\n",
    "    outputCol=\"features\")\n",
    "\n",
    "housing = assembler.transform(housing)"
   ]
  },
  {
   "cell_type": "markdown",
   "id": "educated-strap",
   "metadata": {},
   "source": [
    "### Print first 5 rows of the created dataframe"
   ]
  },
  {
   "cell_type": "code",
   "execution_count": 10,
   "id": "seeing-waste",
   "metadata": {},
   "outputs": [
    {
     "name": "stdout",
     "output_type": "stream",
     "text": [
      "+-----+-----+----+----+-------+-------+------+---+-----+----+-----+----+------+-----+--------------------+\n",
      "|INDUS|  NOX| AGE|CHAS|PTRATIO|   CRIM|   DIS|RAD|   RM|  ZN|  TAX|  MV| BLACK|LSTAT|            features|\n",
      "+-----+-----+----+----+-------+-------+------+---+-----+----+-----+----+------+-----+--------------------+\n",
      "| 2.31|0.538|65.2| 0.0|   15.3|0.00632|  4.09|1.0|6.575|18.0|296.0|24.0| 396.9| 4.98|[0.00632000016048...|\n",
      "| 7.07|0.469|78.9| 0.0|   17.8|0.02731|4.9671|2.0|6.421| 0.0|242.0|21.6| 396.9| 9.14|[0.02731000073254...|\n",
      "| 7.07|0.469|61.1| 0.0|   17.8|0.02729|4.9671|2.0|7.185| 0.0|242.0|34.7|392.83| 4.03|[0.02728999964892...|\n",
      "| 2.18|0.458|45.8| 0.0|   18.7|0.03237|6.0622|3.0|6.998| 0.0|222.0|33.4|394.63| 2.94|[0.03237000107765...|\n",
      "| 2.18|0.458|54.2| 0.0|   18.7|0.06905|6.0622|3.0|7.147| 0.0|222.0|36.2| 396.9| 5.33|[0.06904999911785...|\n",
      "+-----+-----+----+----+-------+-------+------+---+-----+----+-----+----+------+-----+--------------------+\n",
      "only showing top 5 rows\n",
      "\n"
     ]
    }
   ],
   "source": [
    "housing.show(5)"
   ]
  },
  {
   "cell_type": "markdown",
   "id": "brown-rendering",
   "metadata": {},
   "source": [
    "### Rename the column `MV` to `Label`"
   ]
  },
  {
   "cell_type": "code",
   "execution_count": 11,
   "id": "scientific-peripheral",
   "metadata": {},
   "outputs": [
    {
     "name": "stdout",
     "output_type": "stream",
     "text": [
      "+--------------------+-----+\n",
      "|            features|Label|\n",
      "+--------------------+-----+\n",
      "|[0.00632000016048...| 24.0|\n",
      "|[0.02731000073254...| 21.6|\n",
      "|[0.02728999964892...| 34.7|\n",
      "|[0.03237000107765...| 33.4|\n",
      "|[0.06904999911785...| 36.2|\n",
      "|[0.02985000051558...| 28.7|\n",
      "|[0.08828999847173...| 22.9|\n",
      "|[0.14454999566078...| 27.1|\n",
      "|[0.21123999357223...| 16.5|\n",
      "|[0.17003999650478...| 18.9|\n",
      "|[0.22488999366760...| 15.0|\n",
      "|[0.11747000366449...| 18.9|\n",
      "|[0.09378000348806...| 21.7|\n",
      "|[0.62976002693176...| 20.4|\n",
      "|[0.63796001672744...| 18.2|\n",
      "|[0.62739002704620...| 19.9|\n",
      "|[1.05393004417419...| 23.1|\n",
      "|[0.78420001268386...| 17.5|\n",
      "|[0.80270999670028...| 20.2|\n",
      "|[0.72579997777938...| 18.2|\n",
      "+--------------------+-----+\n",
      "only showing top 20 rows\n",
      "\n"
     ]
    }
   ],
   "source": [
    "housing = housing.withColumn('Label', col('MV'))\n",
    "housing = housing.select('features', 'Label')\n",
    "housing.show()"
   ]
  },
  {
   "cell_type": "markdown",
   "id": "personalized-message",
   "metadata": {},
   "source": [
    "### Split the dataframe using the randomSplit() function \n",
    " * Train dataframe and test dataframe with a 75:25 split between them\n",
    " * Use seed=42 as one the parameters of the randomSplit() function to maintain consistency among all submissions.\n",
    " * Print the number of rows in train and test dataframes"
   ]
  },
  {
   "cell_type": "code",
   "execution_count": 47,
   "id": "certified-boulder",
   "metadata": {},
   "outputs": [
    {
     "name": "stdout",
     "output_type": "stream",
     "text": [
      "379\n",
      "127\n"
     ]
    }
   ],
   "source": [
    "train_df, test_df = housing.randomSplit([0.71, 0.3], 42)\n",
    "print(train_df.count())\n",
    "print(test_df.count())"
   ]
  },
  {
   "cell_type": "markdown",
   "id": "opposite-shelter",
   "metadata": {},
   "source": [
    "### Use the StandardScaler to standardize your data.\n",
    "* **IMPORTANT** - Use only the training data for scaling\n",
    "* Standardize values to have zero mean and unit standard deviation"
   ]
  },
  {
   "cell_type": "code",
   "execution_count": 44,
   "id": "local-disco",
   "metadata": {},
   "outputs": [],
   "source": [
    "scaler = StandardScaler(inputCol=\"features\", outputCol=\"scaledFeatures\",\n",
    "                        withStd=True, withMean=False)\n",
    "\n",
    "scalerModel = scaler.fit(train_df)"
   ]
  },
  {
   "cell_type": "markdown",
   "id": "technical-session",
   "metadata": {},
   "source": [
    "### Scale your training and test data with the same mean and std that you'll get from the scaler."
   ]
  },
  {
   "cell_type": "code",
   "execution_count": 45,
   "id": "functioning-invitation",
   "metadata": {},
   "outputs": [],
   "source": [
    "train_df = scalerModel.transform(train_df)\n",
    "test_df = scalerModel.transform(test_df)"
   ]
  },
  {
   "cell_type": "code",
   "execution_count": 15,
   "id": "brazilian-kuwait",
   "metadata": {},
   "outputs": [
    {
     "name": "stdout",
     "output_type": "stream",
     "text": [
      "+--------------------+-----+--------------------+\n",
      "|            features|Label|      scaledFeatures|\n",
      "+--------------------+-----+--------------------+\n",
      "|[0.00632000016048...| 24.0|[8.03394380808371...|\n",
      "|[0.00906000006943...| 32.2|[0.00115170141789...|\n",
      "|[0.01300999987870...| 32.7|[0.00165382286890...|\n",
      "|[0.01310999970883...| 35.4|[0.00166653478338...|\n",
      "|[0.01360000018030...| 18.9|[0.00172882333012...|\n",
      "|[0.01432000007480...| 31.6|[0.00182034925650...|\n",
      "|[0.01501000020653...| 50.0|[0.00190806163222...|\n",
      "|[0.01537999976426...| 44.0|[0.00195509573950...|\n",
      "|[0.01709000021219...| 30.1|[0.00217246990345...|\n",
      "|[0.01964999921619...| 20.1|[0.00249789534055...|\n",
      "|[0.02009000070393...| 50.0|[0.00255382804843...|\n",
      "|[0.02054999954998...| 24.7|[0.00261230280772...|\n",
      "|[0.02187000028789...| 31.1|[0.00278010045781...|\n",
      "|[0.02542999945580...| 23.9|[0.00323264527657...|\n",
      "|[0.02762999944388...| 30.8|[0.00351230786887...|\n",
      "|[0.02875000052154...| 25.0|[0.00365468168998...|\n",
      "|[0.02899000048637...| 26.6|[0.00368519033211...|\n",
      "|[0.03112999908626...| 17.5|[0.00395722558629...|\n",
      "|[0.03237000107765...| 33.4|[0.00411485384686...|\n",
      "|[0.03426999971270...| 19.5|[0.00435638045891...|\n",
      "+--------------------+-----+--------------------+\n",
      "only showing top 20 rows\n",
      "\n"
     ]
    }
   ],
   "source": [
    "train_df.show()"
   ]
  },
  {
   "cell_type": "markdown",
   "id": "occupied-extreme",
   "metadata": {},
   "source": [
    "### Use `scaler_model.mean`, `scaler_model.std` to see the mean and std for each feature"
   ]
  },
  {
   "cell_type": "code",
   "execution_count": 16,
   "id": "oriented-somewhere",
   "metadata": {},
   "outputs": [
    {
     "name": "stdout",
     "output_type": "stream",
     "text": [
      "[3.4071267437187367,10.527704485488123,11.236332547696103,0.07387862796833773,0.5571812670432168,6.287635883743976,69.10237468201126,3.7759606948314084,9.482849604221633,408.9868073878625,18.425857747764887,358.52730664807467,12.805857513384955]\n",
      "\n",
      "[7.866622310858527,22.123956891256963,6.8662067922898915,0.26191903923437193,0.11770544540574955,0.7042372508923194,28.009596375346856,2.1206513409734726,8.631589350485603,168.2070950038125,2.2263257825784453,87.08070362968968,7.087330066497796]\n"
     ]
    }
   ],
   "source": [
    "print(scalerModel.mean)\n",
    "print()\n",
    "print(scalerModel.std)"
   ]
  },
  {
   "cell_type": "markdown",
   "id": "homeless-mercury",
   "metadata": {},
   "source": [
    "### Select only the `features` and `label` columns from both train and test dataset"
   ]
  },
  {
   "cell_type": "code",
   "execution_count": 17,
   "id": "intended-iceland",
   "metadata": {},
   "outputs": [],
   "source": [
    "train_df = train_df.select('scaledFeatures', 'Label')\n",
    "test_df = test_df.select('scaledFeatures', 'Label')"
   ]
  },
  {
   "cell_type": "markdown",
   "id": "fifty-timeline",
   "metadata": {},
   "source": [
    "### Show the first 5 rows of the resulting train dataframe"
   ]
  },
  {
   "cell_type": "code",
   "execution_count": 18,
   "id": "hundred-lighting",
   "metadata": {},
   "outputs": [
    {
     "name": "stdout",
     "output_type": "stream",
     "text": [
      "+--------------------+-----+\n",
      "|      scaledFeatures|Label|\n",
      "+--------------------+-----+\n",
      "|[8.03394380808371...| 24.0|\n",
      "|[0.00115170141789...| 32.2|\n",
      "|[0.00165382286890...| 32.7|\n",
      "|[0.00166653478338...| 35.4|\n",
      "|[0.00172882333012...| 18.9|\n",
      "+--------------------+-----+\n",
      "only showing top 5 rows\n",
      "\n",
      "None\n"
     ]
    }
   ],
   "source": [
    "print(train_df.show(5))"
   ]
  },
  {
   "cell_type": "markdown",
   "id": "sensitive-bidding",
   "metadata": {},
   "source": [
    "### Use LinearRegression for training a regression model.\n",
    "* Use maxIter = 100.\n",
    "* Use the following values for regParam and elasticNetParam and see which one works better.\n",
    "  1. regParam = 0, elasticNetParam = 0\n",
    "  2. regParam = 0.3, elasticNetParam = 0.5\n",
    "\n",
    "Look into the [API](https://spark.apache.org/docs/3.1.1/api/python/reference/api/pyspark.ml.regression.LinearRegression.html) specification to get more details."
   ]
  },
  {
   "cell_type": "code",
   "execution_count": 19,
   "id": "hollow-shuttle",
   "metadata": {},
   "outputs": [],
   "source": [
    "lr1 = LinearRegression(featuresCol='scaledFeatures', labelCol='Label', maxIter=100, regParam=0.0, elasticNetParam = 0, solver=\"normal\")\n",
    "lr2 = LinearRegression(featuresCol='scaledFeatures', labelCol='Label', maxIter=100, regParam=0.3, elasticNetParam = 0.5, solver=\"normal\")\n",
    "\n",
    "lr1_model = lr1.fit(train_df)\n",
    "lr2_model = lr2.fit(train_df)"
   ]
  },
  {
   "cell_type": "markdown",
   "id": "noble-digest",
   "metadata": {},
   "source": [
    "### Print the coefficients and intercept of the linear regression model"
   ]
  },
  {
   "cell_type": "code",
   "execution_count": 20,
   "id": "ecological-narrative",
   "metadata": {},
   "outputs": [
    {
     "name": "stdout",
     "output_type": "stream",
     "text": [
      "Coefficients: [-0.9418276837760206,1.0448586549741308,0.3087173078075704,0.7672786116564864,-1.9519530119216189,3.1248584035958027,-0.17678322791310788,-2.9062457990654025,2.38701850982334,-2.526246884999499,-1.9255040972342408,0.6782048519087396,-2.9699887200828003]\n",
      "Intercept: 30.584247544171312\n",
      "Coefficients: [-0.4341791994813718,0.4701882954426564,-0.09709921821747299,0.7618666142311472,-1.1141570335868045,3.348247965016999,0.0,-1.6408001890498238,0.17770116958058188,-0.6658955407063449,-1.7263026277864595,0.5092971184782086,-2.8999280188301553]\n",
      "Intercept: 19.47779097132082\n"
     ]
    }
   ],
   "source": [
    "print(\"Coefficients: \" + str(lr1_model.coefficients))\n",
    "print(\"Intercept: \" + str(lr1_model.intercept))\n",
    "\n",
    "print(\"Coefficients: \" + str(lr2_model.coefficients))\n",
    "print(\"Intercept: \" + str(lr2_model.intercept))"
   ]
  },
  {
   "cell_type": "markdown",
   "id": "expected-shopper",
   "metadata": {},
   "source": [
    "### Print the training results\n",
    "* Print the root mean squared error(RMSE) of the training\n",
    "* Print the coefficient of determination(r2) of the training"
   ]
  },
  {
   "cell_type": "code",
   "execution_count": 37,
   "id": "smoking-elite",
   "metadata": {},
   "outputs": [
    {
     "name": "stdout",
     "output_type": "stream",
     "text": [
      "RMSE: 4.290887846987993\n",
      "r2: 0.7700074195355654\n",
      "RMSE: 4.42450433381903\n",
      "r2: 0.7554606525390561\n"
     ]
    }
   ],
   "source": [
    "lr1_Summary = lr1_model.summary\n",
    "print(f\"RMSE: {lr1_Summary.rootMeanSquaredError}\")\n",
    "print(f\"r2: {lr1_Summary.r2}\")\n",
    "\n",
    "lr2_Summary = lr2_model.summary\n",
    "print(f\"RMSE: {lr2_Summary.rootMeanSquaredError}\")\n",
    "print(f\"r2: {lr2_Summary.r2}\")"
   ]
  },
  {
   "cell_type": "markdown",
   "id": "lonely-tragedy",
   "metadata": {},
   "source": [
    "### Test the model on test data\n",
    "* Print the RMSE and r2 on test data\n",
    "* Hint - Refer to [`RegressionEvaluator`](https://spark.apache.org/docs/latest/api/python/reference/api/pyspark.ml.evaluation.RegressionEvaluator.html)"
   ]
  },
  {
   "cell_type": "code",
   "execution_count": 38,
   "id": "monetary-bicycle",
   "metadata": {},
   "outputs": [
    {
     "name": "stdout",
     "output_type": "stream",
     "text": [
      "RMSE(regParam = 0, elasticNetParam = 0): 5.826628715990164\n",
      "r2(regParam = 0, elasticNetParam = 0): 0.6510124031338022\n"
     ]
    }
   ],
   "source": [
    "lr1_pred = lr1_model.transform(test_df)\n",
    "lr1_eval = RegressionEvaluator(predictionCol=\"prediction\", \\\n",
    "                 labelCol=\"Label\",metricName=\"r2\")\n",
    "lr1_result = lr1_model.evaluate(test_df)\n",
    "\n",
    "print(f\"RMSE(regParam = 0, elasticNetParam = 0): {lr1_result.rootMeanSquaredError}\")\n",
    "print(f\"r2(regParam = 0, elasticNetParam = 0): {lr1_eval.evaluate(lr1_pred)}\")"
   ]
  },
  {
   "cell_type": "markdown",
   "id": "intensive-diagram",
   "metadata": {},
   "source": [
    "### Plot results on test data(using matplotlib)\n",
    "\n",
    " * In the test data, you have labels, and you also have predictions for each of the test data.\n",
    " * Plot a scatter plot of the labels(in blue) and predictions(in red) on a single plot so that you can visualize how the predictions look as compared to the ground truth.\n"
   ]
  },
  {
   "cell_type": "code",
   "execution_count": 24,
   "id": "included-wyoming",
   "metadata": {},
   "outputs": [],
   "source": [
    "lr1_ = lr1_pred.select('prediction').toPandas()\n",
    "\n",
    "y_test = test_df.select('Label').toPandas()"
   ]
  },
  {
   "cell_type": "code",
   "execution_count": 25,
   "id": "prerequisite-welsh",
   "metadata": {},
   "outputs": [],
   "source": [
    "x = np.arange(y_test.shape[0])"
   ]
  },
  {
   "cell_type": "code",
   "execution_count": 39,
   "id": "fitted-laundry",
   "metadata": {},
   "outputs": [
    {
     "data": {
      "image/png": "[encoded data removed]",
      "text/plain": [
       "<Figure size 720x432 with 1 Axes>"
      ]
     },
     "metadata": {},
     "output_type": "display_data"
    }
   ],
   "source": [
    "plt.figure(figsize=(10,6))\n",
    "x = np.arange(y_test.shape[0])\n",
    "plt.scatter(x, lr1_, alpha=0.8, marker='s', c='r', label='predictions')\n",
    "plt.scatter(x, y_test, alpha=0.8, marker='o', c='b', label='true values')\n",
    "plt.legend();"
   ]
  },
  {
   "cell_type": "markdown",
   "id": "aboriginal-snowboard",
   "metadata": {},
   "source": [
    "### Add regularization to model\n",
    "* Try different values of regularization parameters `regParam` and `elasticNetParam` to see how performance changes.\n",
    "* Look into the API specification for [regParam](https://spark.apache.org/docs/latest/api/python/reference/api/pyspark.ml.regression.LinearRegression.html#pyspark.ml.regression.LinearRegression.regParam) and [elasticNetParam](https://spark.apache.org/docs/latest/api/python/reference/api/pyspark.ml.regression.LinearRegression.html#pyspark.ml.regression.LinearRegression.elasticNetParam) to get more details."
   ]
  },
  {
   "cell_type": "markdown",
   "id": "bound-pastor",
   "metadata": {},
   "source": [
    "I will be running a pipeline with standard scaler and cross-validation to search for the best `regParam` and `elasticNetParam`."
   ]
  },
  {
   "cell_type": "code",
   "execution_count": 48,
   "id": "developed-germany",
   "metadata": {},
   "outputs": [],
   "source": [
    "train_df, test_df = housing.randomSplit([0.71, 0.3], 42)\n",
    "\n",
    "# set each stage for pipeline\n",
    "scaler = StandardScaler(inputCol=\"features\", outputCol=\"scaledFeatures\", withStd=True, withMean=False)\n",
    "lr = LinearRegression(maxIter=100, featuresCol='scaledFeatures', labelCol='Label')\n",
    "\n",
    "# create pipeline\n",
    "pipeline = Pipeline(stages=[scaler, lr])\n",
    "\n",
    "# create paramter grid\n",
    "paramGrid = ParamGridBuilder()\\\n",
    "               .addGrid(lr.regParam, [0.001, 0.01, 0.1, 0.5, 1.0, 2.0])\\\n",
    "               .addGrid(lr.elasticNetParam, [0.0, 0.25, 0.5, 0.75, 1.0])\\\n",
    "               .build()\n",
    "\n",
    "# set evaluator\n",
    "lrevaluator = RegressionEvaluator(predictionCol=\"prediction\", labelCol=\"Label\", metricName=\"rmse\")\n",
    " \n",
    "# create cross-validator\n",
    "crossval = CrossValidator(estimator=pipeline, \\\n",
    "                          estimatorParamMaps=paramGrid, \\\n",
    "                          evaluator=lrevaluator, \\\n",
    "                          numFolds=5) \n",
    " \n",
    "# run cross-validator    \n",
    "cvModel = crossval.fit(train_df)\n",
    "prediction = cvModel.transform(test_df)"
   ]
  },
  {
   "cell_type": "code",
   "execution_count": 49,
   "id": "pressed-mount",
   "metadata": {},
   "outputs": [],
   "source": [
    "# get cross-validator model summary\n",
    "cvModelSummary = cvModel.bestModel.stages[-1].summary\n",
    "#print(\"Coefficient Standard Errors: \" + str(cvModelSummary.coefficientStandardErrors))\n",
    "#print(\"P Values: \" + str(cvModelSummary.pValues)) # Last element is the intercept"
   ]
  },
  {
   "cell_type": "code",
   "execution_count": 50,
   "id": "crude-husband",
   "metadata": {},
   "outputs": [
    {
     "name": "stdout",
     "output_type": "stream",
     "text": [
      "Best RegParam =  0.1\n"
     ]
    }
   ],
   "source": [
    "print(\"Best RegParam = \", cvModel.bestModel.stages[-1].getRegParam())"
   ]
  },
  {
   "cell_type": "code",
   "execution_count": 51,
   "id": "mental-retirement",
   "metadata": {},
   "outputs": [
    {
     "name": "stdout",
     "output_type": "stream",
     "text": [
      "Best elasticNetParam =  0.0\n"
     ]
    }
   ],
   "source": [
    "print(\"Best elasticNetParam = \", cvModel.bestModel.stages[-1].getElasticNetParam())"
   ]
  },
  {
   "cell_type": "code",
   "execution_count": 52,
   "id": "diagnostic-thickness",
   "metadata": {},
   "outputs": [
    {
     "name": "stdout",
     "output_type": "stream",
     "text": [
      "Test RMSE: 5.84125653321618\n"
     ]
    }
   ],
   "source": [
    "# measure the accuracy of our model on test data\n",
    "cv_pred = cvModel.transform(test_df)\n",
    "\n",
    "# cvModel uses the best model found from the Cross Validation\n",
    "# Evaluate best model\n",
    "print('Test RMSE:', lrevaluator.evaluate(cv_pred))"
   ]
  },
  {
   "cell_type": "markdown",
   "id": "better-system",
   "metadata": {},
   "source": [
    "### Stop the spark session"
   ]
  },
  {
   "cell_type": "code",
   "execution_count": 53,
   "id": "alive-plate",
   "metadata": {},
   "outputs": [],
   "source": [
    "spark.stop()"
   ]
  }
 ],
 "metadata": {
  "kernelspec": {
   "display_name": "Python 3",
   "language": "python",
   "name": "python3"
  },
  "language_info": {
   "codemirror_mode": {
    "name": "ipython",
    "version": 3
   },
   "file_extension": ".py",
   "mimetype": "text/x-python",
   "name": "python",
   "nbconvert_exporter": "python",
   "pygments_lexer": "ipython3",
   "version": "3.8.8"
  }
 },
 "nbformat": 4,
 "nbformat_minor": 5
}
